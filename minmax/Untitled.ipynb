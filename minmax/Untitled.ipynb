{
 "cells": [
  {
   "cell_type": "code",
   "execution_count": 1,
   "metadata": {},
   "outputs": [
    {
     "name": "stdout",
     "output_type": "stream",
     "text": [
      "Welcome, Agent 006!\n"
     ]
    }
   ],
   "source": [
    "#!/usr/bin/python2 -u\n",
    "from Crypto.Cipher import AES\n",
    "\n",
    "agent_code = \"\"\"flag\"\"\"\n",
    "\n",
    "def pad(message):\n",
    "    if len(message) % 16 != 0:\n",
    "        message = message + '0'*(16 - len(message)%16 )\n",
    "    return message\n",
    "\n",
    "def encrypt(key, plain):\n",
    "    cipher = AES.new( key.decode('hex'), AES.MODE_ECB )\n",
    "    return cipher.encrypt(plain).encode('hex')\n",
    "\n",
    "welcome = \"Welcome, Agent 006!\"\n",
    "print welcome"
   ]
  },
  {
   "cell_type": "code",
   "execution_count": 2,
   "metadata": {},
   "outputs": [],
   "source": [
    "sitrep = \"00000000000011111111111111111111111111111111\""
   ]
  },
  {
   "cell_type": "code",
   "execution_count": 3,
   "metadata": {},
   "outputs": [],
   "source": [
    "# sitrep = raw_input(\"Please enter your situation report: \")\n",
    "message = \"\"\"Agent,\n",
    "Greetings. My situation report is as follows:\n",
    "{0}\n",
    "My agent identifying code is: {1}.\n",
    "Down with the Soviets,\n",
    "006\n",
    "\"\"\".format( sitrep, agent_code )"
   ]
  },
  {
   "cell_type": "code",
   "execution_count": 15,
   "metadata": {},
   "outputs": [
    {
     "data": {
      "text/plain": [
       "51"
      ]
     },
     "execution_count": 15,
     "metadata": {},
     "output_type": "execute_result"
    }
   ],
   "source": [
    "len(\"\"\"Agent,\\Greetings. My situation report is as follows:\"\"\")"
   ]
  },
  {
   "cell_type": "code",
   "execution_count": 10,
   "metadata": {},
   "outputs": [
    {
     "data": {
      "text/plain": [
       "'\\n'"
      ]
     },
     "execution_count": 10,
     "metadata": {},
     "output_type": "execute_result"
    }
   ],
   "source": [
    "message[52]"
   ]
  },
  {
   "cell_type": "code",
   "execution_count": null,
   "metadata": {},
   "outputs": [],
   "source": []
  },
  {
   "cell_type": "code",
   "execution_count": 6,
   "metadata": {
    "scrolled": true
   },
   "outputs": [
    {
     "data": {
      "text/plain": [
       "':'"
      ]
     },
     "execution_count": 6,
     "metadata": {},
     "output_type": "execute_result"
    }
   ],
   "source": [
    "message[51]"
   ]
  },
  {
   "cell_type": "code",
   "execution_count": 5,
   "metadata": {
    "scrolled": true
   },
   "outputs": [
    {
     "data": {
      "text/plain": [
       "'1'"
      ]
     },
     "execution_count": 5,
     "metadata": {},
     "output_type": "execute_result"
    }
   ],
   "source": [
    "message[65]"
   ]
  },
  {
   "cell_type": "code",
   "execution_count": null,
   "metadata": {},
   "outputs": [],
   "source": [
    "message = pad(message)\n",
    "print encrypt( \"\"\"key\"\"\", message )"
   ]
  }
 ],
 "metadata": {
  "kernelspec": {
   "display_name": "Python 2",
   "language": "python",
   "name": "python2"
  },
  "language_info": {
   "codemirror_mode": {
    "name": "ipython",
    "version": 2
   },
   "file_extension": ".py",
   "mimetype": "text/x-python",
   "name": "python",
   "nbconvert_exporter": "python",
   "pygments_lexer": "ipython2",
   "version": "2.7.14"
  }
 },
 "nbformat": 4,
 "nbformat_minor": 2
}
